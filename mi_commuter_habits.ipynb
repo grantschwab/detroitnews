{
 "cells": [
  {
   "cell_type": "markdown",
   "id": "4ba67402-642d-448c-85e5-f5f5925e4aa9",
   "metadata": {},
   "source": [
    "# Libraries"
   ]
  },
  {
   "cell_type": "code",
   "execution_count": 19,
   "id": "cd97ac46-ad49-46d7-9cce-29c6310bd9b0",
   "metadata": {},
   "outputs": [],
   "source": [
    "import requests\n",
    "import pandas as pd\n",
    "import json\n",
    "import os"
   ]
  },
  {
   "cell_type": "markdown",
   "id": "535a7a9f-035c-4901-8833-7e848d1f0705",
   "metadata": {},
   "source": [
    "# Basic API Setup"
   ]
  },
  {
   "cell_type": "markdown",
   "id": "57da68a7-0d70-432d-bc83-d929dba78130",
   "metadata": {},
   "source": [
    "********_NOTE_********\n",
    "\n",
    "An API query to the Census Bureau in the search bar of your browser is one way to pull this / other data.\n",
    "But it's frustrating for repeated or multi-step data pulls, e.g. getting data across several years.\n",
    "For reference, the address below is an example of a browser search bar API query:\n",
    "\n",
    "https://api.census.gov/data/2022/acs/acs1/subject?get=NAME,S0801_C01_001E&for=state:26"
   ]
  },
  {
   "cell_type": "code",
   "execution_count": 20,
   "id": "a7366505-c7bf-4bc8-bb04-e50c892245c0",
   "metadata": {},
   "outputs": [],
   "source": [
    "# Set working directory\n",
    "os.chdir('/Users/grantschwab/Desktop/Detroit News/Data')\n",
    "\n",
    "# Import API key from stored txt file\n",
    "with open('./census_api_key.txt', 'r') as file:\n",
    "    api_key = file.read().strip()\n",
    "\n",
    "# Define the base URL for the Census API\n",
    "base_url = 'https://api.census.gov/data/'"
   ]
  },
  {
   "cell_type": "markdown",
   "id": "b208f635-2b21-4c6d-b6e4-46f7540023e2",
   "metadata": {},
   "source": [
    "# Choose vars, loc, years"
   ]
  },
  {
   "cell_type": "code",
   "execution_count": 21,
   "id": "af187941-4fe1-433e-8406-b7986b7e0d9e",
   "metadata": {},
   "outputs": [],
   "source": [
    "#Specify the variables you want to pull\n",
    "variables = [\n",
    "    'S0801_C01_001E',\n",
    "    'S0801_C01_002E',\n",
    "    'S0801_C01_009E',\n",
    "    'S0801_C01_010E',\n",
    "    'S0801_C01_011E',\n",
    "    'S0801_C01_012E',\n",
    "    'S0801_C01_013E']\n",
    "\n",
    "# Specify the state code for Michigan (FIPS code)\n",
    "state_code = '26'\n",
    "\n",
    "# Specify the range of years\n",
    "years = range(2018, 2023)"
   ]
  },
  {
   "cell_type": "markdown",
   "id": "2ef47aa0-3f62-42a8-9c0c-cd23c17a5bd8",
   "metadata": {},
   "source": [
    "# Make list for rename cols"
   ]
  },
  {
   "cell_type": "code",
   "execution_count": 22,
   "id": "459f5f35-9e11-4609-b853-e076020e630a",
   "metadata": {},
   "outputs": [],
   "source": [
    "# Descriptive names for variables\n",
    "variable_names = [\n",
    "    'total_workers', \n",
    "    'private_car',\n",
    "    'public_transit',\n",
    "    'walk',\n",
    "    'bike',\n",
    "    'taxi_motorcycle_other',\n",
    "    'work_from_home']"
   ]
  },
  {
   "cell_type": "markdown",
   "id": "10fb9d89-4eb5-4f90-95c1-3d9d73a0e13b",
   "metadata": {},
   "source": [
    "# API pull, DF creation"
   ]
  },
  {
   "cell_type": "code",
   "execution_count": 23,
   "id": "b39f2e60-97e0-4b8f-a38b-07340f52ec54",
   "metadata": {},
   "outputs": [
    {
     "name": "stdout",
     "output_type": "stream",
     "text": [
      "Error decoding JSON for 2020: <!doctype html><html lang=\"en\"><head><title>HTTP Status 404 ? Not Found</title><style type=\"text/css\">body {font-family:Tahoma,Arial,sans-serif;} h1, h2, h3, b {color:white;background-color:#525D76;} h1 {font-size:22px;} h2 {font-size:16px;} h3 {font-size:14px;} p {font-size:12px;} a {color:black;} .line {height:1px;background-color:#525D76;border:none;}</style></head><body><h1>HTTP Status 404 ? Not Found</h1></body></html>\n"
     ]
    }
   ],
   "source": [
    "# Create an empty DataFrame to store the results\n",
    "result_df = pd.DataFrame()\n",
    "\n",
    "# Iterate over each year and pull data for the specified variables\n",
    "for year in years:\n",
    "    # Construct the API endpoint\n",
    "    endpoint = f'{base_url}{year}/acs/acs1/subject?'\n",
    "    \n",
    "    # Specify parameters for the API request\n",
    "    params = {\n",
    "        'get': ','.join(variables),\n",
    "        'for': f'state:{state_code}',\n",
    "        'key': api_key,\n",
    "    }\n",
    "\n",
    "    # Make the API request\n",
    "    response = requests.get(endpoint, params=params)\n",
    "\n",
    "    try:\n",
    "        # Try to decode the JSON response\n",
    "        data = response.json()\n",
    "\n",
    "        # Convert the data to a DataFrame\n",
    "        year_df = pd.DataFrame(data[1:], columns=data[0])\n",
    "\n",
    "        # Add a column for the year\n",
    "        year_df['Year'] = year\n",
    "\n",
    "        # Rename the columns based on the descriptive names\n",
    "        year_df.rename(columns=dict(zip(variables, variable_names)), inplace=True)\n",
    "\n",
    "        # Concatenate the results to the main DataFrame\n",
    "        result_df = pd.concat([result_df, year_df], ignore_index=True)\n",
    "        \n",
    "    except json.decoder.JSONDecodeError:\n",
    "        # Handle JSON decoding error\n",
    "        print(f'Error decoding JSON for {year}: {response.text}')"
   ]
  },
  {
   "cell_type": "code",
   "execution_count": 24,
   "id": "05d29e7f-7a80-4ecf-ba9e-35cb7dd254d0",
   "metadata": {},
   "outputs": [
    {
     "data": {
      "text/html": [
       "<div>\n",
       "<style scoped>\n",
       "    .dataframe tbody tr th:only-of-type {\n",
       "        vertical-align: middle;\n",
       "    }\n",
       "\n",
       "    .dataframe tbody tr th {\n",
       "        vertical-align: top;\n",
       "    }\n",
       "\n",
       "    .dataframe thead th {\n",
       "        text-align: right;\n",
       "    }\n",
       "</style>\n",
       "<table border=\"1\" class=\"dataframe\">\n",
       "  <thead>\n",
       "    <tr style=\"text-align: right;\">\n",
       "      <th></th>\n",
       "      <th>total_workers</th>\n",
       "      <th>private_car</th>\n",
       "      <th>public_transit</th>\n",
       "      <th>walk</th>\n",
       "      <th>bike</th>\n",
       "      <th>taxi_motorcycle_other</th>\n",
       "      <th>work_from_home</th>\n",
       "      <th>state</th>\n",
       "      <th>Year</th>\n",
       "    </tr>\n",
       "  </thead>\n",
       "  <tbody>\n",
       "    <tr>\n",
       "      <th>0</th>\n",
       "      <td>4615506</td>\n",
       "      <td>90.9</td>\n",
       "      <td>1.4</td>\n",
       "      <td>2.3</td>\n",
       "      <td>0.4</td>\n",
       "      <td>0.9</td>\n",
       "      <td>4.1</td>\n",
       "      <td>26</td>\n",
       "      <td>2018</td>\n",
       "    </tr>\n",
       "    <tr>\n",
       "      <th>1</th>\n",
       "      <td>4662155</td>\n",
       "      <td>90.7</td>\n",
       "      <td>1.4</td>\n",
       "      <td>2.2</td>\n",
       "      <td>0.3</td>\n",
       "      <td>0.9</td>\n",
       "      <td>4.5</td>\n",
       "      <td>26</td>\n",
       "      <td>2019</td>\n",
       "    </tr>\n",
       "    <tr>\n",
       "      <th>2</th>\n",
       "      <td>4526178</td>\n",
       "      <td>79.7</td>\n",
       "      <td>0.8</td>\n",
       "      <td>1.8</td>\n",
       "      <td>0.3</td>\n",
       "      <td>1.0</td>\n",
       "      <td>16.4</td>\n",
       "      <td>26</td>\n",
       "      <td>2021</td>\n",
       "    </tr>\n",
       "    <tr>\n",
       "      <th>3</th>\n",
       "      <td>4706068</td>\n",
       "      <td>81.9</td>\n",
       "      <td>0.8</td>\n",
       "      <td>2.0</td>\n",
       "      <td>0.4</td>\n",
       "      <td>1.2</td>\n",
       "      <td>13.7</td>\n",
       "      <td>26</td>\n",
       "      <td>2022</td>\n",
       "    </tr>\n",
       "  </tbody>\n",
       "</table>\n",
       "</div>"
      ],
      "text/plain": [
       "  total_workers private_car public_transit walk bike taxi_motorcycle_other  \\\n",
       "0       4615506        90.9            1.4  2.3  0.4                   0.9   \n",
       "1       4662155        90.7            1.4  2.2  0.3                   0.9   \n",
       "2       4526178        79.7            0.8  1.8  0.3                   1.0   \n",
       "3       4706068        81.9            0.8  2.0  0.4                   1.2   \n",
       "\n",
       "  work_from_home state  Year  \n",
       "0            4.1    26  2018  \n",
       "1            4.5    26  2019  \n",
       "2           16.4    26  2021  \n",
       "3           13.7    26  2022  "
      ]
     },
     "execution_count": 24,
     "metadata": {},
     "output_type": "execute_result"
    }
   ],
   "source": [
    "#Preview\n",
    "result_df"
   ]
  },
  {
   "cell_type": "markdown",
   "id": "0c57208d-43b3-4495-863d-0bce43ee282b",
   "metadata": {},
   "source": [
    "# Pivot"
   ]
  },
  {
   "cell_type": "code",
   "execution_count": 25,
   "id": "9759acf1-21e7-4fd5-bf9c-0a51c2afc7bd",
   "metadata": {},
   "outputs": [],
   "source": [
    "# Set 'Year' as the index\n",
    "result_df.set_index('Year', inplace=True)\n",
    "\n",
    "# Pivot the DataFrame\n",
    "pivot = result_df.transpose()"
   ]
  },
  {
   "cell_type": "code",
   "execution_count": 26,
   "id": "024c4e14-3c8d-4e30-8292-6cb63d639e08",
   "metadata": {},
   "outputs": [
    {
     "data": {
      "text/html": [
       "<div>\n",
       "<style scoped>\n",
       "    .dataframe tbody tr th:only-of-type {\n",
       "        vertical-align: middle;\n",
       "    }\n",
       "\n",
       "    .dataframe tbody tr th {\n",
       "        vertical-align: top;\n",
       "    }\n",
       "\n",
       "    .dataframe thead th {\n",
       "        text-align: right;\n",
       "    }\n",
       "</style>\n",
       "<table border=\"1\" class=\"dataframe\">\n",
       "  <thead>\n",
       "    <tr style=\"text-align: right;\">\n",
       "      <th>Year</th>\n",
       "      <th>2018</th>\n",
       "      <th>2019</th>\n",
       "      <th>2021</th>\n",
       "      <th>2022</th>\n",
       "    </tr>\n",
       "  </thead>\n",
       "  <tbody>\n",
       "    <tr>\n",
       "      <th>total_workers</th>\n",
       "      <td>4615506</td>\n",
       "      <td>4662155</td>\n",
       "      <td>4526178</td>\n",
       "      <td>4706068</td>\n",
       "    </tr>\n",
       "    <tr>\n",
       "      <th>private_car</th>\n",
       "      <td>90.9</td>\n",
       "      <td>90.7</td>\n",
       "      <td>79.7</td>\n",
       "      <td>81.9</td>\n",
       "    </tr>\n",
       "    <tr>\n",
       "      <th>public_transit</th>\n",
       "      <td>1.4</td>\n",
       "      <td>1.4</td>\n",
       "      <td>0.8</td>\n",
       "      <td>0.8</td>\n",
       "    </tr>\n",
       "    <tr>\n",
       "      <th>walk</th>\n",
       "      <td>2.3</td>\n",
       "      <td>2.2</td>\n",
       "      <td>1.8</td>\n",
       "      <td>2.0</td>\n",
       "    </tr>\n",
       "    <tr>\n",
       "      <th>bike</th>\n",
       "      <td>0.4</td>\n",
       "      <td>0.3</td>\n",
       "      <td>0.3</td>\n",
       "      <td>0.4</td>\n",
       "    </tr>\n",
       "    <tr>\n",
       "      <th>taxi_motorcycle_other</th>\n",
       "      <td>0.9</td>\n",
       "      <td>0.9</td>\n",
       "      <td>1.0</td>\n",
       "      <td>1.2</td>\n",
       "    </tr>\n",
       "    <tr>\n",
       "      <th>work_from_home</th>\n",
       "      <td>4.1</td>\n",
       "      <td>4.5</td>\n",
       "      <td>16.4</td>\n",
       "      <td>13.7</td>\n",
       "    </tr>\n",
       "    <tr>\n",
       "      <th>state</th>\n",
       "      <td>26</td>\n",
       "      <td>26</td>\n",
       "      <td>26</td>\n",
       "      <td>26</td>\n",
       "    </tr>\n",
       "  </tbody>\n",
       "</table>\n",
       "</div>"
      ],
      "text/plain": [
       "Year                      2018     2019     2021     2022\n",
       "total_workers          4615506  4662155  4526178  4706068\n",
       "private_car               90.9     90.7     79.7     81.9\n",
       "public_transit             1.4      1.4      0.8      0.8\n",
       "walk                       2.3      2.2      1.8      2.0\n",
       "bike                       0.4      0.3      0.3      0.4\n",
       "taxi_motorcycle_other      0.9      0.9      1.0      1.2\n",
       "work_from_home             4.1      4.5     16.4     13.7\n",
       "state                       26       26       26       26"
      ]
     },
     "execution_count": 26,
     "metadata": {},
     "output_type": "execute_result"
    }
   ],
   "source": [
    "pivot"
   ]
  },
  {
   "cell_type": "markdown",
   "id": "a2c36d61-9395-41cf-b389-db6ebb970e52",
   "metadata": {},
   "source": [
    "# Cleanup"
   ]
  },
  {
   "cell_type": "code",
   "execution_count": 27,
   "id": "4e68ddfe-e772-4820-b035-e669752cf4e1",
   "metadata": {},
   "outputs": [],
   "source": [
    "pivot.rename_axis('category', inplace=True)\n",
    "pivot = pivot.drop(index='state')\n",
    "pivot = pivot.astype(float)"
   ]
  },
  {
   "cell_type": "code",
   "execution_count": 28,
   "id": "ff4adaa3-d701-4070-87b3-968214bc7a53",
   "metadata": {},
   "outputs": [],
   "source": [
    "# Add a new row 'sum' that sums all values within its own column, except for 'total_workers'\n",
    "pivot.loc['sum_percent'] = pivot[pivot.index != 'total_workers'].sum()"
   ]
  },
  {
   "cell_type": "code",
   "execution_count": 29,
   "id": "2f77cafb-7828-4b99-8012-200a58f8bfb7",
   "metadata": {},
   "outputs": [
    {
     "data": {
      "text/html": [
       "<div>\n",
       "<style scoped>\n",
       "    .dataframe tbody tr th:only-of-type {\n",
       "        vertical-align: middle;\n",
       "    }\n",
       "\n",
       "    .dataframe tbody tr th {\n",
       "        vertical-align: top;\n",
       "    }\n",
       "\n",
       "    .dataframe thead th {\n",
       "        text-align: right;\n",
       "    }\n",
       "</style>\n",
       "<table border=\"1\" class=\"dataframe\">\n",
       "  <thead>\n",
       "    <tr style=\"text-align: right;\">\n",
       "      <th>Year</th>\n",
       "      <th>2018</th>\n",
       "      <th>2019</th>\n",
       "      <th>2021</th>\n",
       "      <th>2022</th>\n",
       "    </tr>\n",
       "    <tr>\n",
       "      <th>category</th>\n",
       "      <th></th>\n",
       "      <th></th>\n",
       "      <th></th>\n",
       "      <th></th>\n",
       "    </tr>\n",
       "  </thead>\n",
       "  <tbody>\n",
       "    <tr>\n",
       "      <th>total_workers</th>\n",
       "      <td>4615506.0</td>\n",
       "      <td>4662155.0</td>\n",
       "      <td>4526178.0</td>\n",
       "      <td>4706068.0</td>\n",
       "    </tr>\n",
       "    <tr>\n",
       "      <th>private_car</th>\n",
       "      <td>90.9</td>\n",
       "      <td>90.7</td>\n",
       "      <td>79.7</td>\n",
       "      <td>81.9</td>\n",
       "    </tr>\n",
       "    <tr>\n",
       "      <th>public_transit</th>\n",
       "      <td>1.4</td>\n",
       "      <td>1.4</td>\n",
       "      <td>0.8</td>\n",
       "      <td>0.8</td>\n",
       "    </tr>\n",
       "    <tr>\n",
       "      <th>walk</th>\n",
       "      <td>2.3</td>\n",
       "      <td>2.2</td>\n",
       "      <td>1.8</td>\n",
       "      <td>2.0</td>\n",
       "    </tr>\n",
       "    <tr>\n",
       "      <th>bike</th>\n",
       "      <td>0.4</td>\n",
       "      <td>0.3</td>\n",
       "      <td>0.3</td>\n",
       "      <td>0.4</td>\n",
       "    </tr>\n",
       "    <tr>\n",
       "      <th>taxi_motorcycle_other</th>\n",
       "      <td>0.9</td>\n",
       "      <td>0.9</td>\n",
       "      <td>1.0</td>\n",
       "      <td>1.2</td>\n",
       "    </tr>\n",
       "    <tr>\n",
       "      <th>work_from_home</th>\n",
       "      <td>4.1</td>\n",
       "      <td>4.5</td>\n",
       "      <td>16.4</td>\n",
       "      <td>13.7</td>\n",
       "    </tr>\n",
       "    <tr>\n",
       "      <th>sum_percent</th>\n",
       "      <td>100.0</td>\n",
       "      <td>100.0</td>\n",
       "      <td>100.0</td>\n",
       "      <td>100.0</td>\n",
       "    </tr>\n",
       "  </tbody>\n",
       "</table>\n",
       "</div>"
      ],
      "text/plain": [
       "Year                        2018       2019       2021       2022\n",
       "category                                                         \n",
       "total_workers          4615506.0  4662155.0  4526178.0  4706068.0\n",
       "private_car                 90.9       90.7       79.7       81.9\n",
       "public_transit               1.4        1.4        0.8        0.8\n",
       "walk                         2.3        2.2        1.8        2.0\n",
       "bike                         0.4        0.3        0.3        0.4\n",
       "taxi_motorcycle_other        0.9        0.9        1.0        1.2\n",
       "work_from_home               4.1        4.5       16.4       13.7\n",
       "sum_percent                100.0      100.0      100.0      100.0"
      ]
     },
     "execution_count": 29,
     "metadata": {},
     "output_type": "execute_result"
    }
   ],
   "source": [
    "pivot"
   ]
  },
  {
   "cell_type": "markdown",
   "id": "a2a0202e-c31e-43e8-a4da-057bb32ab4be",
   "metadata": {},
   "source": [
    "# Export"
   ]
  },
  {
   "cell_type": "code",
   "execution_count": 30,
   "id": "1d9278d8-01ab-4d85-92f1-6f3cc49f7ff1",
   "metadata": {},
   "outputs": [],
   "source": [
    "pivot.to_csv('./datasets/mi_commuter_methods.csv')"
   ]
  }
 ],
 "metadata": {
  "kernelspec": {
   "display_name": "Python 3 (ipykernel)",
   "language": "python",
   "name": "python3"
  },
  "language_info": {
   "codemirror_mode": {
    "name": "ipython",
    "version": 3
   },
   "file_extension": ".py",
   "mimetype": "text/x-python",
   "name": "python",
   "nbconvert_exporter": "python",
   "pygments_lexer": "ipython3",
   "version": "3.12.0"
  }
 },
 "nbformat": 4,
 "nbformat_minor": 5
}
